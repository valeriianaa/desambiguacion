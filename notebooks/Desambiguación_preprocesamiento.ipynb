{
 "cells": [
  {
   "cell_type": "markdown",
   "metadata": {},
   "source": [
    "# Arnetminer dataset pre-processing"
   ]
  },
  {
   "cell_type": "markdown",
   "metadata": {},
   "source": [
    "These are the steps:\n",
    "For the titles: generate a feature for every word in the papers' titles. Then use bag of words.\n",
    "For the venues: every venue is a feature. The output is a matrix indicating the existence of a venue for each publication.\n",
    "For the authors: every author is a feature. The output is a matrix indicating the existence of an author for each publication.\n",
    "Finally, every feature will be joined in a matrix. This matrix will be used by the clustering algorithm."
   ]
  },
  {
   "cell_type": "markdown",
   "metadata": {
    "collapsed": true
   },
   "source": [
    "### Title transformation"
   ]
  },
  {
   "cell_type": "code",
   "execution_count": null,
   "metadata": {
    "collapsed": true
   },
   "outputs": [],
   "source": [
    "def title_bag_of_words(an_array):\n",
    "\ttitle_array = []\n",
    "\tfor i in an_array:\n",
    "\t\ttitle_array.append(i['title'])\n",
    "\tvectorizer = CountVectorizer()\n",
    "\treturn vectorizer.fit_transform(title_array).todense()"
   ]
  },
  {
   "cell_type": "markdown",
   "metadata": {},
   "source": [
    "### Venue transformation"
   ]
  },
  {
   "cell_type": "code",
   "execution_count": null,
   "metadata": {
    "collapsed": true
   },
   "outputs": [],
   "source": [
    "def venue_to_value(an_array):\n",
    "\tvenue_array = []\n",
    "\tvenue_matrix = []\n",
    "\tfor i in an_array:\n",
    "\t\tvenue_array.append(i['jconf'])\n",
    "\tunique_venue_array = list(set(venue_array))\n",
    "\tfor item in venue_array:\n",
    "\t\taux_row = []\n",
    "\t\tfor jitem in unique_venue_array:\n",
    "\t\t\tif (item == jitem):\n",
    "\t\t\t\taux_row.append(1)\n",
    "\t\t\telse:\n",
    "\t\t\t\taux_row.append(0)\n",
    "\t\tvenue_matrix.append(aux_row)\n",
    "\treturn venue_matrix "
   ]
  },
  {
   "cell_type": "markdown",
   "metadata": {},
   "source": [
    "### Authors transformation"
   ]
  },
  {
   "cell_type": "code",
   "execution_count": null,
   "metadata": {
    "collapsed": true
   },
   "outputs": [],
   "source": [
    "def author_existence(an_array):\n",
    "\taux_author_array = []\n",
    "\tauthor_array = []\n",
    "\tseparate_authors = []\n",
    "\tauthor_matrix = []\n",
    "\tfor i in an_array:\n",
    "\t\taux_author_array.append(i['authors'])\n",
    "\tfor i in aux_author_array:\n",
    "\t\tauthor_array.append(i.split(\",\"))\n",
    "\tfor index, item in enumerate(author_array):\n",
    "\t\tfor element in item:\n",
    "\t\t\tseparate_authors.append(element)\n",
    "\tunique_authors = list(set(separate_authors))\n",
    "\tfor item in author_array:\n",
    "\t\taux_row = []\n",
    "\t\tfor jitem in unique_authors:\n",
    "\t\t\tif (jitem in item):\n",
    "\t\t\t\taux_row.append(1)\n",
    "\t\t\telse:\n",
    "\t\t\t\taux_row.append(0)\n",
    "\t\tauthor_matrix.append(aux_row)\n",
    "\treturn author_matrix"
   ]
  },
  {
   "cell_type": "markdown",
   "metadata": {},
   "source": [
    "### Joining everything in a matrix"
   ]
  },
  {
   "cell_type": "code",
   "execution_count": null,
   "metadata": {
    "collapsed": true
   },
   "outputs": [],
   "source": [
    "def join_features_in_matrix(an_array):\n",
    "\tfinal_matrix = []\n",
    "\ttitles = title_bag_of_words(an_array)\n",
    "\tvenues = venue_to_value(an_array)\n",
    "\tauthors = author_existence(an_array)\n",
    "\tfor index, item in enumerate(an_array):\n",
    "\t\taux_row = []\n",
    "\t\tfor jitem in np.asarray(titles[index]).flatten():\n",
    "\t\t\taux_row.append(jitem)\n",
    "\t\tfor jitem in venues[index]:\n",
    "\t\t\taux_row.append(jitem)\n",
    "\t\tfor jitem in authors[index]:\n",
    "\t\t\taux_row.append(jitem)\n",
    "\t\tfinal_matrix.append(aux_row)\n",
    "\treturn np.matrix(final_matrix)"
   ]
  },
  {
   "cell_type": "markdown",
   "metadata": {},
   "source": [
    "The final matrix can be observed with the following command:"
   ]
  },
  {
   "cell_type": "code",
   "execution_count": null,
   "metadata": {
    "collapsed": true
   },
   "outputs": [],
   "source": [
    "print join_features_in_matrix(array_for_clustering)"
   ]
  }
 ],
 "metadata": {
  "kernelspec": {
   "display_name": "Python 2",
   "language": "python",
   "name": "python2"
  },
  "language_info": {
   "codemirror_mode": {
    "name": "ipython",
    "version": 2
   },
   "file_extension": ".py",
   "mimetype": "text/x-python",
   "name": "python",
   "nbconvert_exporter": "python",
   "pygments_lexer": "ipython2",
   "version": "2.7.14"
  }
 },
 "nbformat": 4,
 "nbformat_minor": 2
}
